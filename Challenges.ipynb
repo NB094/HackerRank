{
 "cells": [
  {
   "cell_type": "markdown",
   "id": "04063e71-da66-49bf-a079-ffcc9b381207",
   "metadata": {},
   "source": [
    "# HackerRank Challenges"
   ]
  },
  {
   "cell_type": "markdown",
   "id": "2b2f634f-9d90-416b-8d39-b6b56a7c6336",
   "metadata": {},
   "source": [
    "## [Plus Minus](https://www.hackerrank.com/challenges/one-week-preparation-kit-plus-minus/problem)"
   ]
  },
  {
   "cell_type": "code",
   "execution_count": 1,
   "id": "088716e8-057b-4b35-ad53-f8c05745de1d",
   "metadata": {},
   "outputs": [],
   "source": [
    "arr = [-4, 3, -9, 0, 4, 1]"
   ]
  },
  {
   "cell_type": "code",
   "execution_count": 4,
   "id": "6d51dfb0-7102-418c-ad3a-956bbd4a88b8",
   "metadata": {},
   "outputs": [],
   "source": [
    "def plusMinus(arr):\n",
    "    \"\"\"\n",
    "    Prints the proportion of positive, negative, and zero values to 6 decimal places.\n",
    "    \n",
    "    ==Input==\n",
    "      arr: an input array of integers.\n",
    "      \n",
    "    ==Output==\n",
    "      Prints the following 3 lines, each to 6 decimals:\n",
    "        - proportion of positive values\n",
    "        - proportion of negative values\n",
    "        - proportion of zeros\n",
    "    \"\"\"\n",
    "    # Initialize all value counts.\n",
    "    positive_count = 0\n",
    "    negative_count = 0\n",
    "    zero_count = 0\n",
    "    \n",
    "    # Count all values appropriately.\n",
    "    for i in arr:\n",
    "        if i > 0:\n",
    "            positive_count += 1\n",
    "        elif i < 0:\n",
    "            negative_count += 1\n",
    "        else:\n",
    "            zero_count += 1\n",
    "    \n",
    "    # Print resulting proportions.\n",
    "    print(\"%.6f\" % float(positive_count / len(arr)))\n",
    "    print(\"%.6f\" % float(negative_count / len(arr)))\n",
    "    print(\"%.6f\" % float(zero_count / len(arr)))"
   ]
  },
  {
   "cell_type": "code",
   "execution_count": 5,
   "id": "a316f78e-50e3-47db-a9f1-dc0aa3f652ff",
   "metadata": {},
   "outputs": [
    {
     "name": "stdout",
     "output_type": "stream",
     "text": [
      "0.500000\n",
      "0.333333\n",
      "0.166667\n"
     ]
    }
   ],
   "source": [
    "plusMinus(arr)"
   ]
  },
  {
   "cell_type": "markdown",
   "id": "7c6144ac-cbc2-40c5-8669-3454d6bf8c53",
   "metadata": {},
   "source": [
    "## [Mini-Max Sum](https://www.hackerrank.com/challenges/one-week-preparation-kit-mini-max-sum/problem)"
   ]
  },
  {
   "cell_type": "code",
   "execution_count": 6,
   "id": "49cdc638-3de8-473f-8c3d-94fcef528495",
   "metadata": {},
   "outputs": [],
   "source": [
    "arr = [1, 3, 5, 7, 9]"
   ]
  },
  {
   "cell_type": "code",
   "execution_count": 24,
   "id": "699c4e15-23df-443b-9e15-b1a38d283cae",
   "metadata": {},
   "outputs": [],
   "source": [
    "def miniMaxSum(arr):\n",
    "    \"\"\"\n",
    "    Calculate the minimum and maximum possible sums of a 5-integer array.\n",
    "    \n",
    "    ==Input==\n",
    "      arr: an input array of 5 integers.\n",
    "      \n",
    "    ==Output==\n",
    "      A printed line containing the minimum sum, a space, and the maximum sum.\n",
    "    \"\"\"\n",
    "    # Sort in increasing order.\n",
    "    arr.sort()\n",
    "    \n",
    "    # Get sums using appropriate slices.\n",
    "    min_sum = sum(arr[0:4])\n",
    "    max_sum = sum(arr[1:5])\n",
    "    \n",
    "    print(f'{min_sum} {max_sum}')"
   ]
  },
  {
   "cell_type": "code",
   "execution_count": 22,
   "id": "899b4601-87e6-4e2f-9ef2-21e28ba8b309",
   "metadata": {},
   "outputs": [
    {
     "name": "stdout",
     "output_type": "stream",
     "text": [
      "16 24\n"
     ]
    }
   ],
   "source": [
    "miniMaxSum(arr)"
   ]
  },
  {
   "cell_type": "code",
   "execution_count": 25,
   "id": "45df2733-3fbc-46cf-a4aa-f657f8625208",
   "metadata": {},
   "outputs": [
    {
     "name": "stdout",
     "output_type": "stream",
     "text": [
      "2093989309 2548418794\n"
     ]
    }
   ],
   "source": [
    "miniMaxSum([396285104, 573261094, 759641832, 819230764, 364801279])"
   ]
  },
  {
   "cell_type": "markdown",
   "id": "dd5845b1-7caf-4a29-8155-8f04f89ca923",
   "metadata": {},
   "source": [
    "## [Time Conversion](https://www.hackerrank.com/challenges/one-week-preparation-kit-time-conversion/problem)"
   ]
  },
  {
   "cell_type": "code",
   "execution_count": 45,
   "id": "a23f042c-42d3-467f-9f47-844d3528cec6",
   "metadata": {},
   "outputs": [],
   "source": [
    "def timeConversion(s):\n",
    "    \"\"\"\n",
    "    Given a time in 12-hour format, convert it to 24-hour format.\n",
    "    \n",
    "    ==Input==\n",
    "      s: a string representing a time in 12-hour format.\n",
    "      \n",
    "    ==Output==\n",
    "      new_time: a string representing a time in 24-hour format.    \n",
    "    \"\"\"\n",
    "    # Note that the input data is not a datetime object, so I will just do manual string manipulation.\n",
    "    \n",
    "    if s[-2:] == 'PM':\n",
    "        if s[0:2] == '12':\n",
    "            hour = '12'\n",
    "        else:\n",
    "            hour = str(int(s[0:2]) + 12)\n",
    "    else:\n",
    "        if s[0:2] == '12':\n",
    "            hour = '00'\n",
    "        else:\n",
    "            hour = s[0:2]\n",
    "    \n",
    "    new_time = f'{hour}{s[2:-2]}'\n",
    "    \n",
    "    return new_time"
   ]
  },
  {
   "cell_type": "code",
   "execution_count": 48,
   "id": "784a2d2d-14ca-4d54-af58-5cf45671aad7",
   "metadata": {},
   "outputs": [
    {
     "data": {
      "text/plain": [
       "'05:30:00'"
      ]
     },
     "execution_count": 48,
     "metadata": {},
     "output_type": "execute_result"
    }
   ],
   "source": [
    "timeConversion('05:30:00AM')"
   ]
  },
  {
   "cell_type": "code",
   "execution_count": 49,
   "id": "e0ab565c-3aab-4e98-94e9-966486902b4b",
   "metadata": {},
   "outputs": [
    {
     "data": {
      "text/plain": [
       "'17:30:00'"
      ]
     },
     "execution_count": 49,
     "metadata": {},
     "output_type": "execute_result"
    }
   ],
   "source": [
    "timeConversion('05:30:00PM')"
   ]
  },
  {
   "cell_type": "markdown",
   "id": "dc8e90c8-1813-4e3a-81e6-72daee6cf3f5",
   "metadata": {},
   "source": [
    "## Find the Median"
   ]
  },
  {
   "cell_type": "code",
   "execution_count": 58,
   "id": "59afd00c-bd0c-46cc-bacc-40a01d831fb1",
   "metadata": {},
   "outputs": [],
   "source": [
    "# Mock test question; no URL available\n",
    "\n",
    "def findMedian(arr):\n",
    "    \"\"\"\n",
    "    Given an array with an odd number of integer elements, find the median.\n",
    "    \n",
    "    ==Input==\n",
    "      arr: an input array of an odd number of integer elements.\n",
    "      \n",
    "    ==Output==\n",
    "      median: an int representing the median of the array.\n",
    "    \"\"\"\n",
    "    \n",
    "    # Sort the array in ascending order.\n",
    "    arr.sort()\n",
    "    \n",
    "    # Get the position of the median element.\n",
    "    middle_elem = int((len(arr) + 1)/2)\n",
    "    \n",
    "    # Retrieve the value of the median element.\n",
    "    median = arr[middle_elem - 1]\n",
    "    \n",
    "    return median"
   ]
  },
  {
   "cell_type": "code",
   "execution_count": 60,
   "id": "c4cbed95-6dbb-49db-a3f0-0cc5453d8242",
   "metadata": {},
   "outputs": [
    {
     "data": {
      "text/plain": [
       "4"
      ]
     },
     "execution_count": 60,
     "metadata": {},
     "output_type": "execute_result"
    }
   ],
   "source": [
    "findMedian([5,3,1,2,4,6,7])"
   ]
  }
 ],
 "metadata": {
  "kernelspec": {
   "display_name": "Python 3 (ipykernel)",
   "language": "python",
   "name": "python3"
  },
  "language_info": {
   "codemirror_mode": {
    "name": "ipython",
    "version": 3
   },
   "file_extension": ".py",
   "mimetype": "text/x-python",
   "name": "python",
   "nbconvert_exporter": "python",
   "pygments_lexer": "ipython3",
   "version": "3.7.11"
  }
 },
 "nbformat": 4,
 "nbformat_minor": 5
}
